{
 "cells": [
  {
   "cell_type": "markdown",
   "id": "91f6d65d",
   "metadata": {},
   "source": [
    " **Завдання 1**\n",
    "\n",
    " *Основні типи даних*"
   ]
  },
  {
   "cell_type": "code",
   "execution_count": 41,
   "id": "04f45945",
   "metadata": {},
   "outputs": [
    {
     "name": "stdout",
     "output_type": "stream",
     "text": [
      "Hello, Nazar!\n"
     ]
    }
   ],
   "source": [
    "# string\n",
    "name = \"Nazar\"\n",
    "print(f'Hello, {name}!')"
   ]
  },
  {
   "cell_type": "code",
   "execution_count": 42,
   "id": "f09628eb",
   "metadata": {},
   "outputs": [
    {
     "name": "stdout",
     "output_type": "stream",
     "text": [
      "Вік: 24\n"
     ]
    }
   ],
   "source": [
    "# int\n",
    "age = 20\n",
    "print(f'Вік: {age +4}')"
   ]
  },
  {
   "cell_type": "code",
   "execution_count": 43,
   "id": "24e0e620",
   "metadata": {},
   "outputs": [
    {
     "name": "stdout",
     "output_type": "stream",
     "text": [
      "сім\n"
     ]
    }
   ],
   "source": [
    "# list\n",
    "l = [1, 4.2,\"сім\", [8, 9, 2], True]\n",
    "print(l [2])"
   ]
  },
  {
   "cell_type": "code",
   "execution_count": 44,
   "id": "b7ff6dc2",
   "metadata": {},
   "outputs": [
    {
     "name": "stdout",
     "output_type": "stream",
     "text": [
      "{1, 2, 3, 4, 'Назар'}\n",
      "True\n"
     ]
    }
   ],
   "source": [
    "# set\n",
    "s = {1, 2, 3, 2, 1, 4, 'Назар'}\n",
    "print(s)\n",
    "print('Назар' in s)"
   ]
  },
  {
   "cell_type": "code",
   "execution_count": 45,
   "id": "a252bf3c",
   "metadata": {},
   "outputs": [
    {
     "name": "stdout",
     "output_type": "stream",
     "text": [
      "{'name': 'Назар', 'age': 20, 'city': 'Львів'}\n",
      "Назар\n"
     ]
    }
   ],
   "source": [
    "# dict\n",
    "student = {'name': 'Назар', 'age': 20, 'city': 'Львів'}\n",
    "print(student)\n",
    "print(student['name'])"
   ]
  },
  {
   "cell_type": "markdown",
   "id": "77859e5a",
   "metadata": {},
   "source": [
    " **Завдання 2**\n",
    "\n",
    " *Вбудовані константи*"
   ]
  },
  {
   "cell_type": "code",
   "execution_count": 46,
   "id": "b9c1fbbf",
   "metadata": {},
   "outputs": [
    {
     "name": "stdout",
     "output_type": "stream",
     "text": [
      "Перша константа: True\n",
      "Друга константа через f-рядок: False\n",
      "Третя константа: None\n"
     ]
    }
   ],
   "source": [
    "# виведемо дві-три вбудовані константи\n",
    "print(\"Перша константа:\", True)\n",
    "print(f\"Друга константа через f-рядок: {False}\")\n",
    "print(\"Третя константа:\", None)"
   ]
  },
  {
   "cell_type": "markdown",
   "id": "44fa89b0",
   "metadata": {},
   "source": [
    "*Зарезервовані слова в Python*"
   ]
  },
  {
   "cell_type": "code",
   "execution_count": 47,
   "id": "e4bd5785",
   "metadata": {},
   "outputs": [
    {
     "name": "stdout",
     "output_type": "stream",
     "text": [
      "Зарезервовані слова в Python:\n",
      "\n",
      "Here is a list of the Python keywords.  Enter any keyword to get more help.\n",
      "\n",
      "False               class               from                or\n",
      "None                continue            global              pass\n",
      "True                def                 if                  raise\n",
      "and                 del                 import              return\n",
      "as                  elif                in                  try\n",
      "assert              else                is                  while\n",
      "async               except              lambda              with\n",
      "await               finally             nonlocal            yield\n",
      "break               for                 not                 \n",
      "\n"
     ]
    }
   ],
   "source": [
    "import sys\n",
    "print(\"Зарезервовані слова в Python:\")\n",
    "help( \"keywords\")\n"
   ]
  },
  {
   "cell_type": "markdown",
   "id": "2b81899c",
   "metadata": {},
   "source": [
    " **Завдання 3**\n",
    "\n",
    " *Вбудовані функції*"
   ]
  },
  {
   "cell_type": "code",
   "execution_count": 82,
   "id": "de1e633c",
   "metadata": {},
   "outputs": [
    {
     "name": "stdout",
     "output_type": "stream",
     "text": [
      "кількість букв: 5\n",
      "Число 7.452343 заокруглене до тисячних: 7.452\n",
      "12.5 є рівним 12.5 і якщо порівняти то:  True\n"
     ]
    }
   ],
   "source": [
    "text = \"Hello\"\n",
    "print(\"кількість букв:\", len(text))\n",
    "\n",
    "num = 7.452343                \n",
    "print(\"Число 7.452343 заокруглене до тисячних:\", round(num, 3))\n",
    "\n",
    "print(abs(-12.5), f\"є рівним {abs(12.5)}\", \"і якщо порівняти то: \", abs(-12.5) == abs(12.5))"
   ]
  },
  {
   "cell_type": "markdown",
   "id": "7bd2bbfe",
   "metadata": {},
   "source": [
    " **Завдання 4**\n",
    "\n",
    " *Цикли*"
   ]
  },
  {
   "cell_type": "code",
   "execution_count": null,
   "id": "0a8b939d",
   "metadata": {},
   "outputs": [
    {
     "name": "stdout",
     "output_type": "stream",
     "text": [
      "На позиції 0 знаходиться буква a\n",
      "На позиції 1 знаходиться буква b\n",
      "На позиції 2 знаходиться буква c\n",
      "Завершення циклу:)\n",
      "4. apple\n",
      "5. banana\n",
      "6. cherry\n",
      "Завершення циклу:)\n",
      "Сьогодні — чілл\n",
      "Завершення циклу:)\n"
     ]
    }
   ],
   "source": [
    "letters = [\"a\", \"b\", \"c\"]\n",
    "for i in range(len(letters)):\n",
    "    print(f\"На позиції {i} знаходиться буква {letters[i]}\")\n",
    "else:\n",
    "    print(\"Завершення циклу:)\")\n",
    "\n",
    "fruits = [\"apple\", \"banana\", \"cherry\"]\n",
    "for i, fruit in enumerate(fruits, start=4):\n",
    "    print(f\"{i}. {fruit}\")\n",
    "else:\n",
    "    print(\"Завершення циклу:)\")\n",
    "\n",
    "import random\n",
    "activities = [\"футбол\", \"баскет\", \"чілл\", \"кава\"]\n",
    "for i in range(1):\n",
    "    print(f\"Сьогодні — {random.choice(activities)}\")\n",
    "else:\n",
    "    print(\"Завершення циклу:)\")\n",
    "    "
   ]
  },
  {
   "cell_type": "markdown",
   "id": "251e1a8c",
   "metadata": {},
   "source": [
    " **Завдання 5**\n",
    "\n",
    " *Розгалуження*"
   ]
  },
  {
   "cell_type": "code",
   "execution_count": 53,
   "id": "c662206d",
   "metadata": {},
   "outputs": [
    {
     "name": "stdout",
     "output_type": "stream",
     "text": [
      "⚠️ Приготуйся, скоро зелений.\n",
      "✅ Доступ дозволено! Ласкаво просимо.\n"
     ]
    }
   ],
   "source": [
    "#1\n",
    "color = input(\"Введіть колір світлофора (red, yellow, green): \").lower()\n",
    "\n",
    "if color == \"red\":\n",
    "    print(\"🚫 Стій! Рух заборонено.\")\n",
    "elif color == \"yellow\":\n",
    "    print(\"⚠️ Приготуйся, скоро зелений.\")\n",
    "elif color == \"green\":\n",
    "    print(\"✅ Можна йти!\")\n",
    "else:\n",
    "    print(\"❓ Невідомий сигнал. Перевір введення.\")\n",
    "\n",
    "#2\n",
    "password = input(\"Введіть пароль: \")\n",
    "\n",
    "if password == \"123\":\n",
    "    print(\"✅ Доступ дозволено! Ласкаво просимо.\")\n",
    "else:\n",
    "    print(\"❌ Невірний пароль. Спробуйте ще раз.\")\n",
    "\n"
   ]
  },
  {
   "cell_type": "markdown",
   "id": "0421520c",
   "metadata": {},
   "source": [
    " **Завдання 6**\n",
    "\n",
    " *Конструкція try->expect->finally*"
   ]
  },
  {
   "cell_type": "code",
   "execution_count": 83,
   "id": "0bb4559e",
   "metadata": {},
   "outputs": [
    {
     "name": "stdout",
     "output_type": "stream",
     "text": [
      "Ваше число у квадраті = 4\n",
      "Програма завершила роботу.\n"
     ]
    }
   ],
   "source": [
    "try:\n",
    "    number = int(input(\"Введіть число: \"))\n",
    "    print(f\"Ваше число у квадраті = {number ** 2}\")\n",
    "except ValueError:\n",
    "    print(\"Помилка! Ви ввели не число.\")\n",
    "finally:\n",
    "    print(\"Програма завершила роботу.\")\n"
   ]
  },
  {
   "cell_type": "markdown",
   "id": "b44109bf",
   "metadata": {},
   "source": [
    " **Завдання 7**\n",
    "\n",
    " *Контекст менеджер with*"
   ]
  },
  {
   "cell_type": "code",
   "execution_count": 79,
   "id": "5dca707f",
   "metadata": {},
   "outputs": [
    {
     "name": "stdout",
     "output_type": "stream",
     "text": [
      "Вміст файлу: Контекст-менеджер with дозволяє зручно працювати з файлами.\n"
     ]
    }
   ],
   "source": [
    "\n",
    "with open(\"example.txt\", \"w\", encoding=\"utf-8\") as f:\n",
    "    f.write(\"Контекст-менеджер with дозволяє зручно працювати з файлами.\")\n",
    "\n",
    "with open(\"example.txt\", \"r\", encoding=\"utf-8\") as f:\n",
    "    content = f.read()\n",
    "    print(\"Вміст файлу:\", content)\n"
   ]
  },
  {
   "cell_type": "markdown",
   "id": "09213411",
   "metadata": {},
   "source": [
    " **Завдання 8**\n",
    "\n",
    " *Python lambdas*"
   ]
  },
  {
   "cell_type": "code",
   "execution_count": 84,
   "id": "5b597d4b",
   "metadata": {},
   "outputs": [
    {
     "name": "stdout",
     "output_type": "stream",
     "text": [
      "Непарне число ❌\n"
     ]
    }
   ],
   "source": [
    "# Лямбда для перевірки парності числа\n",
    "is_even = lambda x: \"Парне число ✅\" if x % 2 == 0 else \"Непарне число ❌\"\n",
    "\n",
    "num = int(input(\"Введіть число: \"))\n",
    "print(is_even(num))\n",
    "\n",
    "\n",
    "\n",
    "\n"
   ]
  }
 ],
 "metadata": {
  "kernelspec": {
   "display_name": "Python 3",
   "language": "python",
   "name": "python3"
  },
  "language_info": {
   "codemirror_mode": {
    "name": "ipython",
    "version": 3
   },
   "file_extension": ".py",
   "mimetype": "text/x-python",
   "name": "python",
   "nbconvert_exporter": "python",
   "pygments_lexer": "ipython3",
   "version": "3.12.10"
  }
 },
 "nbformat": 4,
 "nbformat_minor": 5
}
